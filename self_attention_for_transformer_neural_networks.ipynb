{
  "nbformat": 4,
  "nbformat_minor": 0,
  "metadata": {
    "colab": {
      "provenance": [],
      "authorship_tag": "ABX9TyNIRYykb2C1dZfR2Jl6y5N5",
      "include_colab_link": true
    },
    "kernelspec": {
      "name": "python3",
      "display_name": "Python 3"
    },
    "language_info": {
      "name": "python"
    }
  },
  "cells": [
    {
      "cell_type": "markdown",
      "metadata": {
        "id": "view-in-github",
        "colab_type": "text"
      },
      "source": [
        "<a href=\"https://colab.research.google.com/github/MikaTan2007/Algoverse/blob/main/self_attention_for_transformer_neural_networks.ipynb\" target=\"_parent\"><img src=\"https://colab.research.google.com/assets/colab-badge.svg\" alt=\"Open In Colab\"/></a>"
      ]
    },
    {
      "cell_type": "code",
      "execution_count": 1,
      "metadata": {
        "id": "-demqWNYwCok"
      },
      "outputs": [],
      "source": [
        "import numpy as np\n",
        "import math\n",
        "\n",
        "L = 4\n",
        "d_k = 8\n",
        "d_v = 8\n",
        "\n",
        "q = np.random.randn(L, d_k)\n",
        "k = np.random.randn(L, d_k)\n",
        "v = np.random.randn(L, d_v)"
      ]
    },
    {
      "cell_type": "code",
      "source": [
        "print(\"Q/n\", q)\n",
        "print(\"K/n\", k)\n",
        "print(\"V/n\", v)"
      ],
      "metadata": {
        "colab": {
          "base_uri": "https://localhost:8080/"
        },
        "id": "dnrt4oe12NWf",
        "outputId": "1a22e752-89a8-442f-c9a1-c176ed34e23c"
      },
      "execution_count": 2,
      "outputs": [
        {
          "output_type": "stream",
          "name": "stdout",
          "text": [
            "Q/n [[-0.20188015 -0.02908697 -0.70514387  0.87105529  0.2680398  -0.87235931\n",
            "   0.29465271 -0.35793315]\n",
            " [-0.71879942  0.50290361 -1.73157684  1.1947927   0.09411422 -1.03183324\n",
            "   0.46365963 -0.68421816]\n",
            " [ 0.67815688  1.25807264  0.07665503  0.08954589 -0.40269645 -1.09315636\n",
            "  -2.28009983  0.088115  ]\n",
            " [ 1.13062035 -1.4404     -0.828273   -1.44464218 -1.20550352  0.70786745\n",
            "  -0.52968024 -0.95576786]]\n",
            "K/n [[ 1.56516118 -0.47588991  0.89740067  0.43389758  1.74090796 -1.19632292\n",
            "   1.00231411 -0.22925154]\n",
            " [ 0.56420227 -1.15124793 -0.58019514  0.57282807 -0.65043344  0.36779873\n",
            "  -1.60484004  0.09204721]\n",
            " [-0.79924802  0.02932769  0.29320043  0.48060169  0.05893221  2.23542785\n",
            "  -1.33605652  0.30646896]\n",
            " [-0.88301991 -2.23289567 -0.2436184   0.82623361 -1.19845276 -0.28919371\n",
            "   0.75266131  0.76361244]]\n",
            "V/n [[ 1.06516916 -0.76369213  0.20426299  0.84201308 -1.24354814 -1.89179452\n",
            "   1.73886509  0.05345057]\n",
            " [-0.71284025 -1.35044064  0.03412544 -0.38083615  0.58692287  1.59886792\n",
            "  -1.45416981  2.07058282]\n",
            " [-0.3645278   0.71373961  1.08229162 -0.16402062  2.24906519 -0.94198889\n",
            "   1.61469679  1.10585271]\n",
            " [-0.72436958 -1.5534781   0.61009546  2.02857873 -1.0904874  -0.13056987\n",
            "  -0.72561498 -1.60672596]]\n"
          ]
        }
      ]
    },
    {
      "cell_type": "code",
      "source": [
        "np.matmul(q, k.T)"
      ],
      "metadata": {
        "colab": {
          "base_uri": "https://localhost:8080/"
        },
        "id": "B7jaOSOc2-Hb",
        "outputId": "3cba6604-1419-4aa2-8c1f-21d39a5110e5"
      },
      "execution_count": 3,
      "outputs": [
        {
          "output_type": "execute_result",
          "data": {
            "text/plain": [
              "array([[ 1.33066677, -0.17334087, -2.06528677,  1.01419283],\n",
              "       [-0.38002364, -0.54325365, -2.47444116,  0.93291418],\n",
              "       [-1.12850144,  2.46825562,  0.16633482, -4.20277034],\n",
              "       [-2.17234803,  3.75571331,  0.04307602,  1.33759544]])"
            ]
          },
          "metadata": {},
          "execution_count": 3
        }
      ]
    }
  ]
}