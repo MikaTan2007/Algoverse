{
  "cells": [
    {
      "cell_type": "markdown",
      "source": [
        "## Project Setup"
      ],
      "metadata": {
        "id": "61hFdWERGM41"
      },
      "id": "61hFdWERGM41"
    },
    {
      "cell_type": "code",
      "source": [],
      "metadata": {
        "id": "qU0jCa8YGOfG"
      },
      "id": "qU0jCa8YGOfG",
      "execution_count": null,
      "outputs": []
    }
  ],
  "metadata": {
    "language_info": {
      "name": "python"
    },
    "colab": {
      "provenance": []
    }
  },
  "nbformat": 4,
  "nbformat_minor": 5
}